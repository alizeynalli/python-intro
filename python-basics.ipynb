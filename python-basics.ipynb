{
 "cells": [
  {
   "cell_type": "markdown",
   "id": "artificial-seller",
   "metadata": {},
   "source": [
    "# Why Python?"
   ]
  },
  {
   "cell_type": "markdown",
   "id": "ethical-content",
   "metadata": {},
   "source": [
    "## 1 Python has a very simple and intuitive syntax"
   ]
  },
  {
   "cell_type": "markdown",
   "id": "affected-digit",
   "metadata": {},
   "source": [
    "## 2 Python is the most widely used programming language in the world\n",
    "\n",
    "- [PYPL PopularitY of Programming Language Index](https://pypl.github.io/PYPL.html) (February 2021)\n",
    "- Ranks programming languages based on how often language tutorials are searched with Google. \n",
    "\n",
    "| Rank | Language | Share |\n",
    "| --- | --- | --- |\n",
    "| 1 | Python | 30.06 % |\n",
    "| 2 | Java | 16.88 % |\n",
    "| 3 | JavaScript | 8.43 % |\n",
    "| 4 | C# | 6.69 % |\n",
    "| 5 | C/C++ | 6.5 % |\n",
    "\n"
   ]
  },
  {
   "cell_type": "markdown",
   "id": "radical-chinese",
   "metadata": {
    "solution2": "hidden",
    "solution2_first": true
   },
   "source": [
    "Exercise 1: Hello World in Python."
   ]
  },
  {
   "cell_type": "code",
   "execution_count": 1,
   "id": "colored-underwear",
   "metadata": {
    "solution2": "hidden"
   },
   "outputs": [
    {
     "name": "stdout",
     "output_type": "stream",
     "text": [
      "Hello World!\n"
     ]
    }
   ],
   "source": [
    "print('Hello World!')"
   ]
  }
 ],
 "metadata": {
  "kernelspec": {
   "display_name": "Python 3",
   "language": "python",
   "name": "python3"
  },
  "language_info": {
   "codemirror_mode": {
    "name": "ipython",
    "version": 3
   },
   "file_extension": ".py",
   "mimetype": "text/x-python",
   "name": "python",
   "nbconvert_exporter": "python",
   "pygments_lexer": "ipython3",
   "version": "3.9.1"
  },
  "latex_envs": {
   "LaTeX_envs_menu_present": true,
   "autoclose": false,
   "autocomplete": true,
   "bibliofile": "biblio.bib",
   "cite_by": "apalike",
   "current_citInitial": 1,
   "eqLabelWithNumbers": true,
   "eqNumInitial": 1,
   "hotkeys": {
    "equation": "Ctrl-E",
    "itemize": "Ctrl-I"
   },
   "labels_anchors": false,
   "latex_user_defs": false,
   "report_style_numbering": false,
   "user_envs_cfg": false
  }
 },
 "nbformat": 4,
 "nbformat_minor": 5
}
