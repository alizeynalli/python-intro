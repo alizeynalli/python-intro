{
 "cells": [
  {
   "cell_type": "markdown",
   "id": "affected-digit",
   "metadata": {},
   "source": [
    "# First steps"
   ]
  },
  {
   "cell_type": "markdown",
   "id": "radical-chinese",
   "metadata": {
    "solution2": "hidden",
    "solution2_first": true
   },
   "source": [
    "Exercise 1: Hello World in Python."
   ]
  },
  {
   "cell_type": "code",
   "execution_count": 1,
   "id": "colored-underwear",
   "metadata": {
    "solution2": "hidden"
   },
   "outputs": [
    {
     "name": "stdout",
     "output_type": "stream",
     "text": [
      "Hello World!\n"
     ]
    }
   ],
   "source": [
    "print('Hello World!')"
   ]
  }
 ],
 "metadata": {
  "kernelspec": {
   "display_name": "Python 3",
   "language": "python",
   "name": "python3"
  },
  "language_info": {
   "codemirror_mode": {
    "name": "ipython",
    "version": 3
   },
   "file_extension": ".py",
   "mimetype": "text/x-python",
   "name": "python",
   "nbconvert_exporter": "python",
   "pygments_lexer": "ipython3",
   "version": "3.9.1"
  }
 },
 "nbformat": 4,
 "nbformat_minor": 5
}
