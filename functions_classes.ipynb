{
 "cells": [
  {
   "cell_type": "markdown",
   "id": "charitable-adventure",
   "metadata": {
    "slideshow": {
     "slide_type": "slide"
    }
   },
   "source": [
    "<figure>\n",
    "  <IMG SRC=\"TUM.png\" WIDTH=250 ALIGN=\"right\">\n",
    "</figure>\n",
    "\n",
    "# Functions and Classes in Python 3\n",
    "    \n",
    "*David B. Blumenthal, Olga Lazareva*"
   ]
  },
  {
   "cell_type": "markdown",
   "id": "handy-groove",
   "metadata": {
    "slideshow": {
     "slide_type": "fragment"
    }
   },
   "source": [
    "### Things we will learn today\n",
    "\n",
    "- How to **write and use your own functions**.\n",
    "- How to **write and use your own classes**.\n",
    "\n",
    "### Things we will not learn today\n",
    "\n",
    "- Proper documentation of classes and functions via docstrings.\n",
    "- Inheritence / derived classes.\n",
    "- Abstract classes.\n",
    "- Static methods."
   ]
  },
  {
   "cell_type": "code",
   "execution_count": 17,
   "id": "amino-legend",
   "metadata": {
    "slideshow": {
     "slide_type": "skip"
    }
   },
   "outputs": [],
   "source": [
    "import numpy as np\n",
    "import pandas as pd\n",
    "import scipy.stats as stats"
   ]
  },
  {
   "cell_type": "markdown",
   "id": "insured-remark",
   "metadata": {
    "slideshow": {
     "slide_type": "slide"
    }
   },
   "source": [
    "---\n",
    "## Functions\n",
    "\n",
    "- We've already used functions in the previous notebooks.\n",
    "- E.g., `np.zeros()` is a function that returns a NumPy array.\n",
    "- But we can also **define our own functions**.\n",
    "\n",
    "$$\n",
    "f(x)=\\begin{cases}\\exp(x) & \\text{if $x\\leq0$}\\\\ \\cos(x) & \\text{if $x>0$}\\end{cases}\n",
    "$$\n",
    "\n",
    "### Defining a function"
   ]
  },
  {
   "cell_type": "code",
   "execution_count": 18,
   "id": "developing-affairs",
   "metadata": {
    "slideshow": {
     "slide_type": "fragment"
    }
   },
   "outputs": [],
   "source": [
    "def f(x):\n",
    "    if x <= 0:\n",
    "        return np.exp(x)\n",
    "    return np.cos(x)"
   ]
  },
  {
   "cell_type": "markdown",
   "id": "contemporary-lemon",
   "metadata": {
    "slideshow": {
     "slide_type": "fragment"
    }
   },
   "source": [
    "### Using a function"
   ]
  },
  {
   "cell_type": "code",
   "execution_count": 16,
   "id": "numerical-pharmacology",
   "metadata": {
    "slideshow": {
     "slide_type": "fragment"
    }
   },
   "outputs": [
    {
     "name": "stdout",
     "output_type": "stream",
     "text": [
      "f(3) = -0.9899924966004454\n"
     ]
    }
   ],
   "source": [
    "print(f'f(3) = {f(3)}')"
   ]
  },
  {
   "cell_type": "markdown",
   "id": "computational-visibility",
   "metadata": {
    "slideshow": {
     "slide_type": "slide"
    }
   },
   "source": [
    "---\n",
    "## <a name=\"ex1\"></a>Exercise 1\n",
    "\n",
    "Write a Python function for $g_\\alpha(x)=e^{-\\alpha x}\\cos(x)$, where $x$ and $\\alpha$ are passed as input parameters.\n",
    "\n",
    "Subsequently, use list comprehension to compute the list $(g_3(n))_{n=1}^{5}$ and print the result."
   ]
  },
  {
   "cell_type": "code",
   "execution_count": null,
   "id": "broad-dealer",
   "metadata": {
    "slideshow": {
     "slide_type": "skip"
    }
   },
   "outputs": [],
   "source": []
  },
  {
   "cell_type": "markdown",
   "id": "integrated-custom",
   "metadata": {
    "slideshow": {
     "slide_type": "skip"
    }
   },
   "source": [
    "<a href=\"#ex1sol\">Solution for Exercise 1</a>"
   ]
  },
  {
   "cell_type": "markdown",
   "id": "creative-whole",
   "metadata": {
    "slideshow": {
     "slide_type": "slide"
    }
   },
   "source": [
    "---\n",
    "## Positional arguments and keyword arguments\n",
    "\n",
    "- Functions can have **positional arguments**, followed by **keyword arguments**\n",
    "\n",
    "```python\n",
    "def func(pos_arg_1, pos_arg_2, kwarg_1 = kwarg_default_1, kwarg_2 = kwarg_default_2):\n",
    "    # do something\n",
    "```\n",
    "\n",
    "- Positional arguments must be entered.\n",
    "- Keyword arguments have a default value and can be entered in any order using the `kwarg=value` syntax.\n",
    "\n",
    "### An example\n",
    "\n",
    "\n",
    "- Implement function $f_{a,b}(x,y)=a\\cos(\\pi x+b y)$.\n",
    "- The parameters should have default $a=1$ and $b=2$."
   ]
  },
  {
   "cell_type": "code",
   "execution_count": 34,
   "id": "palestinian-threshold",
   "metadata": {
    "slideshow": {
     "slide_type": "fragment"
    }
   },
   "outputs": [
    {
     "name": "stdout",
     "output_type": "stream",
     "text": [
      "0.653643620863612\n",
      "0.653643620863612\n",
      "1.307287241727224\n",
      "0.4161468365471423\n",
      "0.8322936730942846\n"
     ]
    }
   ],
   "source": [
    "def f(x, y, a=1, b=2):\n",
    "      return a * np.cos(np.pi * x + b * y)\n",
    "print(f(1, 2))                             # Use defaults.\n",
    "print(f(1, 2, a=1, b=2))                   # Equivalent to above call.\n",
    "print(f(1, 2, a=2))                        # Use non-default values for a.\n",
    "print(f(1, 2, b=1))                        # Use non-default values for b.\n",
    "print(f(1, 2, a=2, b=1))                   # Use non-default values for both a and b."
   ]
  },
  {
   "cell_type": "markdown",
   "id": "valid-arctic",
   "metadata": {
    "slideshow": {
     "slide_type": "slide"
    }
   },
   "source": [
    "---\n",
    "## Local variables\n",
    "\n",
    "- You can define local variables inside a function, which **aren't visible globally**."
   ]
  },
  {
   "cell_type": "code",
   "execution_count": 59,
   "id": "trained-baker",
   "metadata": {
    "slideshow": {
     "slide_type": "fragment"
    }
   },
   "outputs": [
    {
     "name": "stdout",
     "output_type": "stream",
     "text": [
      "10! = 3628800\n"
     ]
    },
    {
     "ename": "NameError",
     "evalue": "name 'fact' is not defined",
     "output_type": "error",
     "traceback": [
      "\u001b[0;31m---------------------------------------------------------------------------\u001b[0m",
      "\u001b[0;31mNameError\u001b[0m                                 Traceback (most recent call last)",
      "\u001b[0;32m<ipython-input-59-e9a295336f4d>\u001b[0m in \u001b[0;36m<module>\u001b[0;34m\u001b[0m\n\u001b[1;32m      6\u001b[0m \u001b[0;34m\u001b[0m\u001b[0m\n\u001b[1;32m      7\u001b[0m \u001b[0mfactorial\u001b[0m\u001b[0;34m(\u001b[0m\u001b[0;36m10\u001b[0m\u001b[0;34m)\u001b[0m\u001b[0;34m\u001b[0m\u001b[0;34m\u001b[0m\u001b[0m\n\u001b[0;32m----> 8\u001b[0;31m \u001b[0mprint\u001b[0m\u001b[0;34m(\u001b[0m\u001b[0mfact\u001b[0m\u001b[0;34m)\u001b[0m                 \u001b[0;31m# This produces an error.\u001b[0m\u001b[0;34m\u001b[0m\u001b[0;34m\u001b[0m\u001b[0m\n\u001b[0m",
      "\u001b[0;31mNameError\u001b[0m: name 'fact' is not defined"
     ]
    }
   ],
   "source": [
    "def factorial(n):\n",
    "    fact = 1                # The variable fact is not visible outside the function.\n",
    "    for i in range(2, n+1):\n",
    "        fact *= i           # This works.\n",
    "    print(f'{n}! = {fact}') # This works, too.\n",
    "\n",
    "factorial(10)\n",
    "print(fact)                 # This produces an error."
   ]
  },
  {
   "cell_type": "markdown",
   "id": "skilled-computer",
   "metadata": {
    "slideshow": {
     "slide_type": "slide"
    }
   },
   "source": [
    "---\n",
    "## Anonymous functions \n",
    "\n",
    "- You can **define simple, anonymous functions on the fly**, using lambda expressions.\n",
    "\n",
    "```python\n",
    "lambda arguments: return_value_1 if condition else return_value_2\n",
    "```\n",
    "\n",
    "- Useful for use in functions like `map(func, seq)`, `filter(func, seq)`, or `sorted()`, which expect functions as arguments.\n",
    "\n",
    "### Example using `map`\n",
    "\n",
    "- **`map(func, seq)`** applies `func` to each element in `seq` and returns a `map` object, which can be cast to `list`, `tuple`, or `set`."
   ]
  },
  {
   "cell_type": "code",
   "execution_count": 80,
   "id": "focal-aluminum",
   "metadata": {
    "slideshow": {
     "slide_type": "fragment"
    }
   },
   "outputs": [
    {
     "name": "stdout",
     "output_type": "stream",
     "text": [
      "[0, 1.0, 0.2, 0.25, 0.16666666666666666, 0.125, 0.09090909090909091, 0.3333333333333333, 0.08333333333333333]\n"
     ]
    }
   ],
   "source": [
    "my_list = [0, 1, 5, 4, 6, 8, 11, 3, 12]\n",
    "print(list(map(lambda x: 1 / x if x != 0 else 0, my_list)))"
   ]
  },
  {
   "cell_type": "markdown",
   "id": "macro-update",
   "metadata": {
    "slideshow": {
     "slide_type": "slide"
    }
   },
   "source": [
    "### Example using `filter`\n",
    "\n",
    "- **`filter(func, seq)`** applies `func` to each element in `seq` and returns a `filter` object containing each element `elem` of `seq` with `bool(func(elem))==True`."
   ]
  },
  {
   "cell_type": "code",
   "execution_count": 79,
   "id": "incorporate-occasions",
   "metadata": {
    "slideshow": {
     "slide_type": "fragment"
    }
   },
   "outputs": [
    {
     "name": "stdout",
     "output_type": "stream",
     "text": [
      "[1, 5, 4, 6, 8, 11, 3, 12]\n"
     ]
    }
   ],
   "source": [
    "print(list(filter(lambda x: 1 if x != 0 else 0, my_list)))"
   ]
  },
  {
   "cell_type": "markdown",
   "id": "double-stevens",
   "metadata": {
    "slideshow": {
     "slide_type": "fragment"
    }
   },
   "source": [
    "### Example using `sorted`\n",
    "\n",
    "- **`sorted(iterable, key=None, reverse=False)`** sorts `iterable`.\n",
    "- If `key` is specified, it serves as key for the sort comparison.\n",
    "- If `reverse=True`, `iterable` is sorted in descending order."
   ]
  },
  {
   "cell_type": "code",
   "execution_count": 91,
   "id": "loved-driver",
   "metadata": {
    "slideshow": {
     "slide_type": "fragment"
    }
   },
   "outputs": [
    {
     "name": "stdout",
     "output_type": "stream",
     "text": [
      "[(0, 0), (1, 1), (2, 5), (3, 4), (4, 6), (5, 8), (6, 11), (7, 3), (8, 12)]\n",
      "[(0, 0), (1, 1), (2, 5), (3, 4), (4, 6), (5, 8), (6, 11), (7, 3), (8, 12)]\n",
      "[(0, 0), (1, 1), (7, 3), (3, 4), (2, 5), (4, 6), (5, 8), (6, 11), (8, 12)]\n"
     ]
    }
   ],
   "source": [
    "my_tuples = [(index, elem) for index, elem in enumerate(my_list)]\n",
    "print(my_tuples)                             # Print list of tuples.\n",
    "print(sorted(my_tuples))                     # Nothing happens, since by default, tuples are sorted by first entry.\n",
    "print(sorted(my_tuples, key=lambda t: t[1])) # Sort the tuples by second entry."
   ]
  },
  {
   "cell_type": "markdown",
   "id": "impossible-norfolk",
   "metadata": {
    "slideshow": {
     "slide_type": "slide"
    }
   },
   "source": [
    "---\n",
    "## Pass by assignment\n",
    "\n",
    "- In Python, function arguments are **passed by assignment**.\n",
    "- When you call a function, each **function argument becomes a variable to which the passed value is assigned**.\n",
    "\n",
    "### How does assignment work?\n",
    "\n",
    "\n",
    "- If the assignment target is an identifier, or variable name, then this name is bound to the object. For example, in `x = l` for some already initialized list `l`, the name `x` is bound to the list object referenced by  `l`.\n",
    "- If the name is already bound to a separate object, then it’s re-bound to the new object. For example, if `x` is already `l` and you issue `x = 3`, then the variable name `x` is re-bound to `3`."
   ]
  },
  {
   "cell_type": "markdown",
   "id": "geological-shadow",
   "metadata": {
    "slideshow": {
     "slide_type": "slide"
    }
   },
   "source": [
    "\n",
    "### Important for functions that are or are not supposed to modify their arguments!"
   ]
  },
  {
   "cell_type": "code",
   "execution_count": 97,
   "id": "olympic-natural",
   "metadata": {
    "slideshow": {
     "slide_type": "fragment"
    }
   },
   "outputs": [
    {
     "name": "stdout",
     "output_type": "stream",
     "text": [
      "Before calling append_2_to_list_correct: [0, 1]\n",
      "CORRECT Before appending 2: [0, 1]\n",
      "CORRECT After appending 2: [0, 1, 2]\n",
      "After calling append_2_to_list_correct: [0, 1, 2]\n",
      "---\n",
      "Before calling append_2_to_list_buggy: [0, 1]\n",
      "BUGGY Before appending 2: [0, 1]\n",
      "BUGGY After appending 2: [0, 1, 2]\n",
      "After calling append_2_to_list_buggy: [0, 1]\n"
     ]
    }
   ],
   "source": [
    "def append_2_to_list_correct(l):\n",
    "    print(f'CORRECT Before appending 2: {l}')\n",
    "    l.append(2)\n",
    "    print(f'CORRECT After appending 2: {l}')\n",
    "\n",
    "l = [0, 1]\n",
    "print(f'Before calling append_2_to_list_correct: {l}')\n",
    "append_2_to_list_correct(l)\n",
    "print(f'After calling append_2_to_list_correct: {l}')\n",
    "    \n",
    "def append_2_to_list_buggy(l):\n",
    "    print(f'BUGGY Before appending 2: {l}')\n",
    "    l = l + [2]\n",
    "    print(f'BUGGY After appending 2: {l}')\n",
    "\n",
    "l = [0, 1]\n",
    "print(f'---\\nBefore calling append_2_to_list_buggy: {l}')\n",
    "append_2_to_list_buggy(l)\n",
    "print(f'After calling append_2_to_list_buggy: {l}')"
   ]
  },
  {
   "cell_type": "markdown",
   "id": "associate-cooperation",
   "metadata": {
    "slideshow": {
     "slide_type": "slide"
    }
   },
   "source": [
    "---\n",
    "## Solutions for exercises"
   ]
  },
  {
   "cell_type": "markdown",
   "id": "behavioral-conviction",
   "metadata": {
    "slideshow": {
     "slide_type": "slide"
    }
   },
   "source": [
    "<a name=\"ex1sol\">Solution for Exercise 1</a>"
   ]
  },
  {
   "cell_type": "code",
   "execution_count": 24,
   "id": "guilty-insurance",
   "metadata": {
    "slideshow": {
     "slide_type": "fragment"
    }
   },
   "outputs": [
    {
     "name": "stdout",
     "output_type": "stream",
     "text": [
      "[0.02690006784157161, -0.0010315248769040485, -0.00012217478005274374, -4.016125209984385e-06, 8.67729207718202e-08]\n"
     ]
    }
   ],
   "source": [
    "def g(x, alpha):\n",
    "    return np.exp(-alpha * x) * np.cos(x)\n",
    "print([g(n, 3) for n in range(1, 6)])"
   ]
  },
  {
   "cell_type": "markdown",
   "id": "thorough-compilation",
   "metadata": {
    "slideshow": {
     "slide_type": "skip"
    }
   },
   "source": [
    "<a href=\"#ex1\">Back to Exercise 1</a>"
   ]
  }
 ],
 "metadata": {
  "celltoolbar": "Slideshow",
  "kernelspec": {
   "display_name": "Python 3",
   "language": "python",
   "name": "python3"
  },
  "language_info": {
   "codemirror_mode": {
    "name": "ipython",
    "version": 3
   },
   "file_extension": ".py",
   "mimetype": "text/x-python",
   "name": "python",
   "nbconvert_exporter": "python",
   "pygments_lexer": "ipython3",
   "version": "3.9.1"
  },
  "latex_envs": {
   "LaTeX_envs_menu_present": true,
   "autoclose": false,
   "autocomplete": true,
   "bibliofile": "biblio.bib",
   "cite_by": "apalike",
   "current_citInitial": 1,
   "eqLabelWithNumbers": true,
   "eqNumInitial": 1,
   "hotkeys": {
    "equation": "Ctrl-E",
    "itemize": "Ctrl-I"
   },
   "labels_anchors": false,
   "latex_user_defs": false,
   "report_style_numbering": false,
   "user_envs_cfg": false
  }
 },
 "nbformat": 4,
 "nbformat_minor": 5
}
