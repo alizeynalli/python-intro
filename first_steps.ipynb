{
 "cells": [
  {
   "cell_type": "markdown",
   "id": "japanese-triangle",
   "metadata": {},
   "source": [
    "<figure>\n",
    "  <IMG SRC=\"TUM.png\" WIDTH=250 ALIGN=\"right\">\n",
    "</figure>\n",
    "\n",
    "# First Steps in Python 3\n",
    "    \n",
    "*David B. Blumenthal*"
   ]
  },
  {
   "cell_type": "markdown",
   "id": "judicial-grass",
   "metadata": {},
   "source": [
    "---\n",
    "## Topics covered in this course\n",
    "\n",
    "1. **First steps**: numbers, containers, comparisons, Boolean operations, if/else-statements, loops, I/O.\n",
    "2. **Data handling and scientific computing**: [NumPy](https://numpy.org/), [pandas](https://pandas.pydata.org/).\n",
    "3. **Plotting**: [seaborn](https://seaborn.pydata.org/).\n",
    "4. **Analysis of biological data**: [Biopython](https://biopython.org/)."
   ]
  },
  {
   "cell_type": "markdown",
   "id": "metallic-diamond",
   "metadata": {},
   "source": [
    "---\n",
    "## Why Python?\n",
    "\n",
    "### Python is the most popular programming language in the world\n",
    "\n",
    "\n",
    "|Rank|Language|Share|\n",
    "|---|---|---|\n",
    "|1|Python|30.17 %|\n",
    "|2|Java|17.18 %|\n",
    "|3|JavaScript|8.21 %|\n",
    "|4|C#|6.76 %|\n",
    "|5|C/C++|6.71 %|\n",
    "\n",
    "- Data from [PYPL PopularitY of Programming Language Index March 2021](https://pypl.github.io/PYPL.html).\n",
    "- Based on numbers of Google searches for language tutorials.\n",
    "\n",
    "### Some advantages of Python\n",
    "\n",
    "- Very **easy syntax**.\n",
    "- **Multi-purpose** programming language.\n",
    "- **Powerful packages** for many applications, e.g.:\n",
    "  - Scientific computing.\n",
    "  - Data handling.\n",
    "  - Statistics.\n",
    "  - Machine learning.\n",
    "  - Plotting.\n",
    "- Many packages have **very efficient C, C++, or Fortran backends**. \n",
    "- $\\Longrightarrow$ Well-designed Python code is often not only easy to read, but also **fast**."
   ]
  },
  {
   "cell_type": "markdown",
   "id": "dated-resolution",
   "metadata": {},
   "source": [
    "---\n",
    "## Hello world in Python"
   ]
  },
  {
   "cell_type": "code",
   "execution_count": null,
   "id": "prostate-exclusion",
   "metadata": {},
   "outputs": [],
   "source": [
    "print('Hello world!')"
   ]
  },
  {
   "cell_type": "markdown",
   "id": "artistic-butterfly",
   "metadata": {},
   "source": [
    "---\n",
    "## Use Python 3 as a calculator"
   ]
  },
  {
   "cell_type": "code",
   "execution_count": null,
   "id": "growing-newport",
   "metadata": {},
   "outputs": [],
   "source": [
    "print(6 + 5)  # Addition\n",
    "print(6 * 5)  # Multiplication\n",
    "print(6 ** 5) # Exponentiation\n",
    "print(6 / 5)  # Division\n",
    "print(6 // 5) # Integer division\n",
    "print(6 % 5)  # Modulo"
   ]
  },
  {
   "cell_type": "markdown",
   "id": "varying-virus",
   "metadata": {},
   "source": [
    "---\n",
    "## Variables\n",
    "\n",
    "Like in all programming languages, **variables** are used in Python to **store values**."
   ]
  },
  {
   "cell_type": "code",
   "execution_count": null,
   "id": "pharmaceutical-ferry",
   "metadata": {},
   "outputs": [],
   "source": [
    "a = 6         # Initialize and declare variable a.\n",
    "print(a / 3)  # Divide a by 3.\n",
    "a += 4        # Add 4 to a.\n",
    "a *= 2        # Multiply a by 2.\n",
    "print(a)      # Print current value stored in a."
   ]
  },
  {
   "cell_type": "markdown",
   "id": "remarkable-bearing",
   "metadata": {},
   "source": [
    "---\n",
    "## <a name=\"ex1\"></a>Exercise 1\n",
    "\n",
    "Use Python to compute the value of the polynomial\n",
    "$$f(x)=\\sum_{i=0}^2a_ix^i$$\n",
    "at $x=50$, for $a_0=3$, $a_1=2.3$, and $a_2=-5.4$.\n",
    "\n",
    "Save the solution in a variable called `poly_at_x`."
   ]
  },
  {
   "cell_type": "code",
   "execution_count": null,
   "id": "cultural-approach",
   "metadata": {},
   "outputs": [],
   "source": []
  },
  {
   "cell_type": "markdown",
   "id": "apparent-stage",
   "metadata": {},
   "source": [
    "<a href=\"#ex1sol\">Solution for Exercise 1</a>"
   ]
  },
  {
   "cell_type": "markdown",
   "id": "exterior-judgment",
   "metadata": {},
   "source": [
    "---\n",
    "## Data types in Python\n",
    "\n",
    "### Everything is an object\n",
    "\n",
    "- Every value in Python has a **data type**.\n",
    "- Everything is an **object** in Python.\n",
    "- $\\Longrightarrow$ **Types are classes** and **variables are objects** instantiating them.\n",
    "\n",
    "### Some important data types\n",
    "\n",
    "- **Numbers**: `int`, `float`, `complex`.\n",
    "- **Strings**: `str`.\n",
    "- **Booleans**: `bool`.\n",
    "- **Containers**: `list`, `tuple`, `set`, `dict`.\n",
    "\n",
    "### Dynamic typing\n",
    "\n",
    "Python is **dynamically typed**, which means that:\n",
    "\n",
    "- You **don't have to declare** the type of a variable.\n",
    "- The type of a variable is **known only at runtime**."
   ]
  },
  {
   "cell_type": "code",
   "execution_count": 4,
   "id": "instructional-shannon",
   "metadata": {},
   "outputs": [
    {
     "name": "stdout",
     "output_type": "stream",
     "text": [
      "<class 'int'> True\n",
      "<class 'float'> False\n",
      "<class 'float'> True\n"
     ]
    }
   ],
   "source": [
    "# Variable a is an int.\n",
    "a = 3\n",
    "print(type(a), isinstance(a, int))\n",
    "\n",
    "# Variable b is a float.\n",
    "b = 3.0\n",
    "print(type(b), isinstance(b, int))\n",
    "\n",
    "# Now, a is a float.\n",
    "a += b\n",
    "print(type(a), isinstance(a, float))"
   ]
  },
  {
   "cell_type": "markdown",
   "id": "restricted-hughes",
   "metadata": {},
   "source": [
    "---\n",
    "## Strings\n",
    "\n",
    "- One of Python's many advantages: it allows **very easy string handling**.\n",
    "\n",
    "```python\n",
    "single_quote_string = 'I am a string.'\n",
    "double_quote_string = \"I am also a string.\"\n",
    "```\n",
    "\n",
    "- Strings constructed via **single quotes** and **double quotes** are equivalent, just **be consistent**.\n",
    "\n",
    "### Formatted strings (f-Strings)"
   ]
  },
  {
   "cell_type": "code",
   "execution_count": 7,
   "id": "waiting-drama",
   "metadata": {},
   "outputs": [
    {
     "name": "stdout",
     "output_type": "stream",
     "text": [
      "My name is Ann and I am 28 years old.\n"
     ]
    }
   ],
   "source": [
    "name = 'Ann'\n",
    "age = 28\n",
    "f_string = f'My name is {name} and I am {age} years old.'\n",
    "print(f_string)"
   ]
  },
  {
   "cell_type": "markdown",
   "id": "instant-integrity",
   "metadata": {},
   "source": [
    "### Pretty-printing floats and integers with f-Strings"
   ]
  },
  {
   "cell_type": "code",
   "execution_count": 56,
   "id": "effective-compensation",
   "metadata": {},
   "outputs": [
    {
     "name": "stdout",
     "output_type": "stream",
     "text": [
      "    34.38\n",
      " 3.44e+01\n",
      "  34.3848\n",
      "34.38\n",
      "   123456\n",
      "1.234560e+05\n",
      "11110001001000000\n",
      "361100\n",
      "1e240\n"
     ]
    }
   ],
   "source": [
    "width = 9                           # Lower bound on desired width.\n",
    "precision = 2                       # Desired precision.\n",
    "x = 34.3848                         # A float.\n",
    "n = 123456                          # An int.\n",
    "print(f'{x:{width}.{precision}f}')  # Pretty-print float, specifying both width and precision.\n",
    "print(f'{x:{width}.{precision}e}')  # Pretty-print float in scientific notation, specifying both width and precision.\n",
    "print(f'{x:{width}}')               # Pretty-print float, specifying width only.\n",
    "print(f'{x:.{precision}f}')         # Pretty-print float, specifying precision only.\n",
    "print(f'{n:{width}}')               # Pretty-print int, specifying width.\n",
    "print(f'{n:e}')                     # Print int in scientific notation.\n",
    "print(f'{n:b}')                     # Print int in binary notation.\n",
    "print(f'{n:o}')                     # Print int in octal notation.\n",
    "print(f'{n:x}')                     # Print int in hexadecimal notation."
   ]
  },
  {
   "cell_type": "markdown",
   "id": "sudden-manhattan",
   "metadata": {},
   "source": [
    "### Most important string operations"
   ]
  },
  {
   "cell_type": "code",
   "execution_count": 9,
   "id": "passing-cooperation",
   "metadata": {},
   "outputs": [
    {
     "name": "stdout",
     "output_type": "stream",
     "text": [
      "I\n",
      ".\n",
      "I a\n",
      "I am a stri\n",
      "m a string.\n",
      "ng.\n",
      "m a\n",
      "I am a string.I am a string.I am a string.\n",
      "I am a string. I am also a string.\n",
      "14\n"
     ]
    }
   ],
   "source": [
    "s_1 = 'I am a string.'      # Construct string using single quotes.\n",
    "s_2 = \"I am also a string.\" # Construct string using double quotes.\n",
    "print(s_1[0])               # Get character at first position.\n",
    "print(s_1[-1])              # Get character at last position.\n",
    "print(s_1[:3])              # Get prefix consisting of first three characters.\n",
    "print(s_1[:-3])             # Get prefix consisting of all but last three characters.\n",
    "print(s_1[3:])              # Get suffix consisting of all but the first three characters.\n",
    "print(s_1[-3:])             # Get suffix consisting of the last three characters.\n",
    "print(s_1[3:6])             # Get substring starting at fourth character (index 3) and ending at sixth character (index 5).\n",
    "print(s_1 * 3)              # Repeat string three times. \n",
    "print(s_1 + ' ' + s_2)      # Concatenate strings.\n",
    "print(len(s_1))             # Get length of string."
   ]
  },
  {
   "cell_type": "markdown",
   "id": "extraordinary-given",
   "metadata": {},
   "source": [
    "### Strings are immutable"
   ]
  },
  {
   "cell_type": "code",
   "execution_count": 10,
   "id": "thirty-honduras",
   "metadata": {},
   "outputs": [
    {
     "ename": "TypeError",
     "evalue": "'str' object does not support item assignment",
     "output_type": "error",
     "traceback": [
      "\u001b[0;31m---------------------------------------------------------------------------\u001b[0m",
      "\u001b[0;31mTypeError\u001b[0m                                 Traceback (most recent call last)",
      "\u001b[0;32m<ipython-input-10-de187f088c88>\u001b[0m in \u001b[0;36m<module>\u001b[0;34m\u001b[0m\n\u001b[0;32m----> 1\u001b[0;31m \u001b[0ms_1\u001b[0m\u001b[0;34m[\u001b[0m\u001b[0;36m4\u001b[0m\u001b[0;34m]\u001b[0m \u001b[0;34m=\u001b[0m \u001b[0;34m'4'\u001b[0m\u001b[0;34m\u001b[0m\u001b[0;34m\u001b[0m\u001b[0m\n\u001b[0m",
      "\u001b[0;31mTypeError\u001b[0m: 'str' object does not support item assignment"
     ]
    }
   ],
   "source": [
    "s_1[4] = '4'"
   ]
  },
  {
   "cell_type": "markdown",
   "id": "professional-muscle",
   "metadata": {},
   "source": [
    "## <a name=\"ex2\"></a>Exercise 2\n",
    "\n",
    "Use f-strings to **pretty-print** the solution `poly_at_x` to Exercise 1, using **scientific notation** and **2 bits precision**. "
   ]
  },
  {
   "cell_type": "code",
   "execution_count": null,
   "id": "excellent-blowing",
   "metadata": {},
   "outputs": [],
   "source": []
  },
  {
   "cell_type": "markdown",
   "id": "together-clothing",
   "metadata": {},
   "source": [
    "<a href=\"#ex2sol\">Solution for Exercise 2</a>"
   ]
  },
  {
   "cell_type": "markdown",
   "id": "steady-concord",
   "metadata": {},
   "source": [
    "---\n",
    "## Lists\n",
    "\n",
    "- Versatile containers that can contain items of **different types**.\n",
    "\n",
    "```python\n",
    "l = [4, 'Apple', True]\n",
    "```\n",
    "\n",
    "- Lists are **mutable**.\n",
    "\n",
    "### Most important list operations"
   ]
  },
  {
   "cell_type": "code",
   "execution_count": 104,
   "id": "computational-serum",
   "metadata": {},
   "outputs": [
    {
     "name": "stdout",
     "output_type": "stream",
     "text": [
      "['abcd', 786, 2.23, 'john', 70.2]\n",
      "abcd\n",
      "[786, 2.23]\n",
      "[2.23, 'john', 70.2]\n",
      "[123, 'john', 123, 'john']\n",
      "['abcd', 786, 2.23, 'john', 70.2, 123, 'john']\n",
      "5\n",
      "['abcd', 786, 'changed', 'john', 70.2, 'new']\n"
     ]
    }
   ],
   "source": [
    "l_1 = ['abcd', 786 , 2.23, 'john', 70.2] # Construct first list.\n",
    "l_2 = [123, 'john']                      # Construct second list.\n",
    "print(l_1)                               # Print complete list.\n",
    "print(l_1[0])                            # Get first element of the list.\n",
    "print(l_1[1:3])                          # Get elements starting from 2nd till 3rd.\n",
    "print(l_1[2:])                           # Get elements starting from 3rd element.\n",
    "print(l_2 * 2)                           # Repeat list two times.\n",
    "print(l_1 + l_2)                         # Concatenate lists.\n",
    "print(len(l_1))                          # Length of list.\n",
    "l_1.append('new')                        # Add new item to list.\n",
    "l_1[2] = 'changed'                       # Update item in list.\n",
    "print(l_1)                               # Print updated list."
   ]
  },
  {
   "cell_type": "markdown",
   "id": "aerial-discretion",
   "metadata": {},
   "source": [
    "---\n",
    "## Tuples\n",
    "\n",
    "- **Immutable** containers that can contain items of **different types** $\\Longrightarrow$ **read-only lists**.\n",
    "\n",
    "```python\n",
    "t = (4, 'Apple', True)\n",
    "```\n",
    "\n",
    "### Most important tuple operations (similar to list operations)"
   ]
  },
  {
   "cell_type": "code",
   "execution_count": 105,
   "id": "extra-change",
   "metadata": {},
   "outputs": [
    {
     "name": "stdout",
     "output_type": "stream",
     "text": [
      "('abcd', 786, 2.23, 'john', 70.2)\n",
      "abcd\n",
      "(786, 2.23)\n",
      "(2.23, 'john', 70.2)\n",
      "(123, 'john', 123, 'john')\n",
      "('abcd', 786, 2.23, 'john', 70.2, 123, 'john')\n",
      "5\n"
     ]
    }
   ],
   "source": [
    "t_1 = ('abcd', 786 , 2.23, 'john', 70.2) # Construct first tuple.\n",
    "t_2 = (123, 'john')                      # Construct second tuple.\n",
    "print(t_1)                               # Print complete tuplet.\n",
    "print(t_1[0])                            # Get first element of the tuple.\n",
    "print(t_1[1:3])                          # Get elements starting from 2nd till 3rd.\n",
    "print(t_1[2:])                           # Get elements starting from 3rd element.\n",
    "print(t_2 * 2)                           # Repeat tuple two times.\n",
    "print(t_1 + t_2)                         # Concatenate tuple.\n",
    "print(len(t_1))                          # Length of tuple."
   ]
  },
  {
   "cell_type": "markdown",
   "id": "american-complement",
   "metadata": {},
   "source": [
    "### But this does not work:"
   ]
  },
  {
   "cell_type": "code",
   "execution_count": 13,
   "id": "unlike-german",
   "metadata": {},
   "outputs": [
    {
     "ename": "AttributeError",
     "evalue": "'tuple' object has no attribute 'append'",
     "output_type": "error",
     "traceback": [
      "\u001b[0;31m---------------------------------------------------------------------------\u001b[0m",
      "\u001b[0;31mAttributeError\u001b[0m                            Traceback (most recent call last)",
      "\u001b[0;32m<ipython-input-13-b3f1c91a4aa0>\u001b[0m in \u001b[0;36m<module>\u001b[0;34m\u001b[0m\n\u001b[0;32m----> 1\u001b[0;31m \u001b[0mt_1\u001b[0m\u001b[0;34m.\u001b[0m\u001b[0mappend\u001b[0m\u001b[0;34m(\u001b[0m\u001b[0;34m'new'\u001b[0m\u001b[0;34m)\u001b[0m   \u001b[0;31m# Cannot add item to tuple.\u001b[0m\u001b[0;34m\u001b[0m\u001b[0;34m\u001b[0m\u001b[0m\n\u001b[0m",
      "\u001b[0;31mAttributeError\u001b[0m: 'tuple' object has no attribute 'append'"
     ]
    }
   ],
   "source": [
    "t_1.append('new')   # Cannot add item to tuple."
   ]
  },
  {
   "cell_type": "markdown",
   "id": "arranged-institute",
   "metadata": {},
   "source": [
    "---\n",
    "## Dictionaries\n",
    "\n",
    "- **Hash table** type with **keys** and **values**.\n",
    "\n",
    "```python\n",
    "d = {'True': True, 2: 2.0}\n",
    "```\n",
    "\n",
    "- **Keys** must be hashable – usually `int` or `str`.\n",
    "- **Values** can be of any type.\n",
    "\n",
    "### Most important dictionary operations"
   ]
  },
  {
   "cell_type": "code",
   "execution_count": 106,
   "id": "cognitive-example",
   "metadata": {
    "scrolled": true
   },
   "outputs": [
    {
     "name": "stdout",
     "output_type": "stream",
     "text": [
      "This is one\n",
      "This is two\n",
      "{'name': 'john', 'code': 6734}\n",
      "2\n",
      "dict_keys(['name', 'code'])\n",
      "dict_values(['john', 6734])\n",
      "dict_items([('name', 'john'), ('code', 6734)])\n",
      "False\n",
      "True\n",
      "{'one': 'This is one', 2: 'This is 2'}\n"
     ]
    }
   ],
   "source": [
    "d_1 = {}                             # Initialize empty dict.\n",
    "d_1['one'] = 'This is one'           # Add string key 'one' with value 'This is one'.\n",
    "d_1[2]     = 'This is two'           # Add int key 2 with value 'This is two'.\n",
    "d_2 = {'name': 'john', 'code': 6734} # Initialize non-empty dict.\n",
    "print(d_1['one'])                    # Get value for key 'one'.\n",
    "print(d_1[2])                        # Get value for key 2.\n",
    "print(d_2)                           # Prints complete dictionary.\n",
    "print(len(d_1))                      # Length of dictionary.\n",
    "print(d_2.keys())                    # Get all the keys.\n",
    "print(d_2.values())                  # Get all the values.\n",
    "print(d_2.items())                   # Get all the key-value pairs as tuples.\n",
    "print('key' in d_1)                  # Check if dict has key 'key'.\n",
    "print(2 in d_1)                      # Check if dict has key 2.\n",
    "d_1[2] = 'This is 2'                 # Update value for existing key.\n",
    "print(d_1)                           # Print updated dict."
   ]
  },
  {
   "cell_type": "markdown",
   "id": "addressed-money",
   "metadata": {},
   "source": [
    "---\n",
    "## Comparisons and Boolean operations\n",
    "\n",
    "```python\n",
    "lhs == rhs        # Equal.\n",
    "lhs != rhs        # Unequal.\n",
    "lhs > rhs         # Strictly greater.\n",
    "lhs < rhs         # Strictly smaller.\n",
    "lhs >= rhs        # Greater or equal.\n",
    "lhs <= rhs        # Smaller or equal.\n",
    "elem in container # Checks containment.\n",
    "cond_1 and cond_2 # Logical and.\n",
    "cond_1 or cond_2  # Logical or.\n",
    "```\n",
    "\n",
    "---\n",
    "## `if`/`else`-statements\n",
    "\n",
    "\n",
    "### Syntax\n",
    "\n",
    "```python\n",
    "if condition:\n",
    "    # do something\n",
    "elif condition:\n",
    "    # do something\n",
    "else:\n",
    "    # do something\n",
    "```"
   ]
  },
  {
   "cell_type": "markdown",
   "id": "statewide-politics",
   "metadata": {},
   "source": [
    "---\n",
    "## <a name=\"ex3\"></a>Exercise 3\n",
    "\n",
    "Print the integer `n` in scientific notation, if `n` is smaller than 50, and in binary notation, otherwise. "
   ]
  },
  {
   "cell_type": "code",
   "execution_count": 122,
   "id": "olympic-image",
   "metadata": {},
   "outputs": [],
   "source": [
    "from random import randrange # Random number generator.\n",
    "n = randrange(100)           # A random integer between 0 and 99."
   ]
  },
  {
   "cell_type": "markdown",
   "id": "located-surname",
   "metadata": {},
   "source": [
    "<a href=\"#ex3sol\">Solution for Exercise 3</a>"
   ]
  },
  {
   "cell_type": "markdown",
   "id": "electoral-probability",
   "metadata": {},
   "source": [
    "---\n",
    "## `for`-loops\n",
    "\n",
    "### Syntax\n",
    "\n",
    "```python\n",
    "for elem in iterator:\n",
    "    # do something\n",
    "```\n",
    "\n",
    "### Iterating through lists"
   ]
  },
  {
   "cell_type": "code",
   "execution_count": 103,
   "id": "likely-visibility",
   "metadata": {},
   "outputs": [
    {
     "name": "stdout",
     "output_type": "stream",
     "text": [
      "The sum of the elements in [5] is 5.\n",
      "The sum of the elements in [5, 3] is 8.\n",
      "The sum of the elements in [5, 3, 2] is 10.\n",
      "The sum of the elements in [5, 3, 2, 1] is 11.\n",
      "The sum of the elements in [5, 3, 2, 1, 4] is 15.\n"
     ]
    }
   ],
   "source": [
    "running_sum = 0\n",
    "l = [5, 3, 2, 1, 4]\n",
    "index = 0\n",
    "for elem in l:\n",
    "    running_sum += elem\n",
    "    print(f'The sum of the elements in {l[:index + 1]} is {running_sum}.')\n",
    "    index += 1"
   ]
  },
  {
   "cell_type": "markdown",
   "id": "animal-luther",
   "metadata": {},
   "source": [
    "### Interating through ranges.\n",
    "\n",
    "\n",
    "### Syntax\n",
    "\n",
    "```python\n",
    "range(start=0, stop, step=1)\n",
    "```\n",
    "\n",
    "- Returns sequence of integers starting at `start`, ending at `stop` **(not included)**, using step-size `step`.\n",
    "- Default of `start` is `0`.\n",
    "- Default of `step` is `1`."
   ]
  },
  {
   "cell_type": "code",
   "execution_count": 107,
   "id": "pressed-weight",
   "metadata": {},
   "outputs": [
    {
     "name": "stdout",
     "output_type": "stream",
     "text": [
      "The entry at position 0 in l_1 is abcd.\n",
      "The entry at position 1 in l_1 is 786.\n",
      "The entry at position 2 in l_1 is changed.\n",
      "The entry at position 3 in l_1 is john.\n",
      "The entry at position 4 in l_1 is 70.2.\n",
      "The entry at position 5 in l_1 is new.\n"
     ]
    }
   ],
   "source": [
    "for i in range(len(l_1)):\n",
    "    print(f'The entry at position {i} in l_1 is {l_1[i]}.')"
   ]
  },
  {
   "cell_type": "markdown",
   "id": "southeast-prize",
   "metadata": {},
   "source": [
    "### Iterating through dictionaries"
   ]
  },
  {
   "cell_type": "code",
   "execution_count": 114,
   "id": "joined-lighter",
   "metadata": {},
   "outputs": [
    {
     "name": "stdout",
     "output_type": "stream",
     "text": [
      "The value for key one in d_1 is This is one\n",
      "The value for key 2 in d_1 is This is 2\n",
      "The value for key one in d_1 is This is one\n",
      "The value for key 2 in d_1 is This is 2\n"
     ]
    }
   ],
   "source": [
    "# Iterate trough keys.\n",
    "for key in d_1:\n",
    "    print(f'The value for key {key} in d_1 is {d_1[key]}')\n",
    "    \n",
    "# Iterate trough key-value pairs.\n",
    "for key, value in d_1.items():\n",
    "    print(f'The value for key {key} in d_1 is {value}')"
   ]
  },
  {
   "cell_type": "markdown",
   "id": "short-despite",
   "metadata": {},
   "source": [
    "---\n",
    "## <a name=\"ex4\"></a>Exercise 4\n",
    "\n",
    "- Create a dictionary `days_in_months` where the **keys are months** and the **values are the number of days** in the month.\n",
    "- Iterate through the dictionary with a for-loop which prints `The number of days in MONTH is XX.`."
   ]
  },
  {
   "cell_type": "code",
   "execution_count": null,
   "id": "selective-accordance",
   "metadata": {},
   "outputs": [],
   "source": []
  },
  {
   "cell_type": "markdown",
   "id": "delayed-oakland",
   "metadata": {},
   "source": [
    "<a href=\"#ex4sol\">Solution for Exercise 4</a>"
   ]
  },
  {
   "cell_type": "markdown",
   "id": "infectious-alpha",
   "metadata": {},
   "source": [
    "---\n",
    "## `break` and `continue`\n",
    "\n",
    "- With `break`, you exit the current loop.\n",
    "- With `continue`, you fast-forward to the next iteration of the current loop.\n",
    "\n",
    "### Sum up all non-negative entries of a list using `continue`"
   ]
  },
  {
   "cell_type": "code",
   "execution_count": 135,
   "id": "tribal-desktop",
   "metadata": {},
   "outputs": [
    {
     "name": "stdout",
     "output_type": "stream",
     "text": [
      "The sum of all non-negative entries in [5, 3, -2, -1, 4] is 12.\n"
     ]
    }
   ],
   "source": [
    "l = [5, 3, -2, -1, 4]\n",
    "running_sum = 0\n",
    "for elem in l:\n",
    "    if elem < 0:\n",
    "        continue\n",
    "    running_sum += elem\n",
    "print(f'The sum of all non-negative entries in {l} is {running_sum}.')"
   ]
  },
  {
   "cell_type": "markdown",
   "id": "metropolitan-counter",
   "metadata": {},
   "source": [
    "### Use `break` to sum up all entries of the longest prefix of a list that contains only non-negative entries"
   ]
  },
  {
   "cell_type": "code",
   "execution_count": 136,
   "id": "given-portland",
   "metadata": {},
   "outputs": [
    {
     "name": "stdout",
     "output_type": "stream",
     "text": [
      "The sum of the entries of the longest non-negative prefix of [5, 3, -2, -1, 4] is 8.\n"
     ]
    }
   ],
   "source": [
    "running_sum = 0\n",
    "for elem in l:\n",
    "    if elem < 0:\n",
    "        break\n",
    "    running_sum += elem\n",
    "print(f'The sum of the entries of the longest non-negative prefix of {l} is {running_sum}.')"
   ]
  },
  {
   "cell_type": "markdown",
   "id": "constitutional-prize",
   "metadata": {},
   "source": [
    "---\n",
    "## `while`-loops\n",
    "\n",
    "### Syntax\n",
    "\n",
    "```python\n",
    "while condition:\n",
    "    # do something\n",
    "```\n",
    "\n",
    "### Find index of first occurence of element in list"
   ]
  },
  {
   "cell_type": "code",
   "execution_count": 133,
   "id": "dominant-elements",
   "metadata": {},
   "outputs": [
    {
     "name": "stdout",
     "output_type": "stream",
     "text": [
      "The element 2 does not occur in [5, 3, 1, 4].\n"
     ]
    }
   ],
   "source": [
    "elem = 2            # The element we would like to find.\n",
    "index = 0           # The index.\n",
    "l = [5, 3, 2, 1, 4] # A list that contains the element.\n",
    "l = [5, 3, 1, 4]    # A list that does not contain it.\n",
    "\n",
    "while index < len(l) and l[index] != elem:\n",
    "    index += 1\n",
    "if index < len(l):\n",
    "    print(f'The index of the first occurence of {elem} in {l} is {index}.')\n",
    "else:\n",
    "    print(f'The element {elem} does not occur in {l}.')"
   ]
  },
  {
   "cell_type": "markdown",
   "id": "matched-click",
   "metadata": {},
   "source": [
    "---\n",
    "## <a name=\"ex5\"></a>Exercise 5\n",
    "\n",
    "Find the index of the first occurence of `elem` in `l` using `for` and `break`."
   ]
  },
  {
   "cell_type": "code",
   "execution_count": null,
   "id": "mediterranean-balance",
   "metadata": {},
   "outputs": [],
   "source": []
  },
  {
   "cell_type": "markdown",
   "id": "powered-skiing",
   "metadata": {},
   "source": [
    "<a href=\"#ex5sol\">Solution for Exercise 5</a>"
   ]
  },
  {
   "cell_type": "markdown",
   "id": "ranging-confusion",
   "metadata": {},
   "source": [
    "---\n",
    "## Solutions for exercises"
   ]
  },
  {
   "cell_type": "markdown",
   "id": "mental-attendance",
   "metadata": {},
   "source": [
    "<a name=\"ex1sol\">Solution for Exercise 1</a>"
   ]
  },
  {
   "cell_type": "code",
   "execution_count": null,
   "id": "dying-progressive",
   "metadata": {},
   "outputs": [],
   "source": [
    "x = 50\n",
    "a_0 = 3\n",
    "a_1 = 2.3\n",
    "a_2 = -5.4\n",
    "poly_at_x = a_0 + a_1 * x + a_2 * x ** 2\n",
    "print(poly_at_x)"
   ]
  },
  {
   "cell_type": "markdown",
   "id": "accessible-genesis",
   "metadata": {},
   "source": [
    "<a href=\"#ex1\">Back to Exercise 1</a>\n",
    "\n",
    "<a name=\"ex2sol\">Solution for Exercise 2</a>"
   ]
  },
  {
   "cell_type": "code",
   "execution_count": 121,
   "id": "sexual-guyana",
   "metadata": {},
   "outputs": [
    {
     "name": "stdout",
     "output_type": "stream",
     "text": [
      "The solution to Exercise 1 is -1.34e+04.\n"
     ]
    }
   ],
   "source": [
    "print(f'The solution to Exercise 1 is {poly_at_x:.2e}.')"
   ]
  },
  {
   "cell_type": "markdown",
   "id": "outer-turkey",
   "metadata": {},
   "source": [
    "<a href=\"#ex2\">Back to Exercise 2</a>\n",
    "\n",
    "<a name=\"ex3sol\">Solution for Exercise 3</a>"
   ]
  },
  {
   "cell_type": "code",
   "execution_count": 123,
   "id": "according-management",
   "metadata": {},
   "outputs": [
    {
     "name": "stdout",
     "output_type": "stream",
     "text": [
      "1010110\n"
     ]
    }
   ],
   "source": [
    "from random import randrange # Random number generator.\n",
    "n = randrange(100)           # A random integer between 0 and 99.\n",
    "\n",
    "if n < 50:\n",
    "    print(f'{n:.1e}')\n",
    "else:\n",
    "    print(f'{n:b}')"
   ]
  },
  {
   "cell_type": "markdown",
   "id": "responsible-oracle",
   "metadata": {},
   "source": [
    "<a href=\"#ex3\">Back to Exercise 3</a>\n",
    "\n",
    "<a name=\"ex4sol\">Solution for Exercise 4</a>"
   ]
  },
  {
   "cell_type": "code",
   "execution_count": 124,
   "id": "grateful-asian",
   "metadata": {},
   "outputs": [
    {
     "name": "stdout",
     "output_type": "stream",
     "text": [
      "The number of days in January is 31.\n",
      "The number of days in February is 28.\n",
      "The number of days in March is 31.\n",
      "The number of days in April is 30.\n",
      "The number of days in May is 31.\n",
      "The number of days in June is 30.\n",
      "The number of days in July is 31.\n",
      "The number of days in August is 31.\n",
      "The number of days in September is 30.\n",
      "The number of days in October is 31.\n",
      "The number of days in November is 30.\n",
      "The number of days in December is 31.\n"
     ]
    }
   ],
   "source": [
    "days_in_months = {'January': 31, 'February': 28, 'March': 31, 'April': '30', 'May': 31, 'June': 30,\n",
    "                 'July': 31, 'August': 31, 'September': 30, 'October': 31, 'November': 30, 'December': 31}\n",
    "for month, days in days_in_months.items():\n",
    "    print(f'The number of days in {month} is {days}.')"
   ]
  },
  {
   "cell_type": "markdown",
   "id": "secret-staff",
   "metadata": {},
   "source": [
    "<a href=\"#ex4\">Back to Exercise 4</a>\n",
    "\n",
    "<a name=\"ex5sol\">Solution for Exercise 5</a>"
   ]
  },
  {
   "cell_type": "code",
   "execution_count": 140,
   "id": "electric-return",
   "metadata": {},
   "outputs": [
    {
     "name": "stdout",
     "output_type": "stream",
     "text": [
      "The index of the first occurence of -2 in [5, 3, -2, -1, 4] is 2.\n"
     ]
    }
   ],
   "source": [
    "found_elem = False\n",
    "for index in range(len(l)):\n",
    "    if l[index] == elem:\n",
    "        print(f'The index of the first occurence of {elem} in {l} is {index}.')\n",
    "        found_elem = True\n",
    "        break\n",
    "if not found_elem:\n",
    "    print(f'The element {elem} does not occur in {l}.')"
   ]
  },
  {
   "cell_type": "markdown",
   "id": "absent-chorus",
   "metadata": {},
   "source": [
    "<a href=\"#ex5\">Back to Exercise 5</a>"
   ]
  }
 ],
 "metadata": {
  "kernelspec": {
   "display_name": "Python 3",
   "language": "python",
   "name": "python3"
  },
  "language_info": {
   "codemirror_mode": {
    "name": "ipython",
    "version": 3
   },
   "file_extension": ".py",
   "mimetype": "text/x-python",
   "name": "python",
   "nbconvert_exporter": "python",
   "pygments_lexer": "ipython3",
   "version": "3.9.1"
  },
  "latex_envs": {
   "LaTeX_envs_menu_present": true,
   "autoclose": false,
   "autocomplete": true,
   "bibliofile": "biblio.bib",
   "cite_by": "apalike",
   "current_citInitial": 1,
   "eqLabelWithNumbers": true,
   "eqNumInitial": 1,
   "hotkeys": {
    "equation": "Ctrl-E",
    "itemize": "Ctrl-I"
   },
   "labels_anchors": false,
   "latex_user_defs": false,
   "report_style_numbering": false,
   "user_envs_cfg": false
  }
 },
 "nbformat": 4,
 "nbformat_minor": 5
}
