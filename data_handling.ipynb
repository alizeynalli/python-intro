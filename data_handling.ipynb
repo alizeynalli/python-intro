{
 "cells": [
  {
   "cell_type": "markdown",
   "id": "arbitrary-frame",
   "metadata": {},
   "source": [
    "<figure>\n",
    "  <IMG SRC=\"TUM.png\" WIDTH=250 ALIGN=\"right\">\n",
    "</figure>\n",
    "\n",
    "# Data Handling and Scientific Computing in Python 3\n",
    "    \n",
    "*David B. Blumenthal*"
   ]
  },
  {
   "cell_type": "markdown",
   "id": "impressed-motor",
   "metadata": {},
   "source": [
    "---\n",
    "## NumPy – overview\n",
    "\n",
    "- Main class `ndarray` representing **multi-dimensional arrays**.\n",
    "- Provides many useful **mathematical functions**.\n",
    "- Backend implemented in **C** and **Fortran** $\\Longrightarrow$ **very fast** if only library calls are used.\n",
    "- Documentation and tutorials available [here](https://numpy.org).\n",
    "\n",
    "### Syntax for importing packages, e.g., NumPy\n",
    "\n",
    "```python\n",
    "import package as pkg\n",
    "```"
   ]
  },
  {
   "cell_type": "code",
   "execution_count": 9,
   "id": "american-career",
   "metadata": {},
   "outputs": [],
   "source": [
    "import numpy as np"
   ]
  },
  {
   "cell_type": "markdown",
   "id": "cultural-jumping",
   "metadata": {},
   "source": [
    "---\n",
    "## Creating a `np.ndarray`"
   ]
  },
  {
   "cell_type": "code",
   "execution_count": 65,
   "id": "later-airport",
   "metadata": {},
   "outputs": [
    {
     "name": "stdout",
     "output_type": "stream",
     "text": [
      "a=\n",
      "[1 2 3]\n",
      "\n",
      "b=\n",
      "[[1 2 3]\n",
      " [4 5 6]]\n",
      "\n",
      "b has shape (2, 3).\n",
      "\n",
      "c=\n",
      "[[1. 1.]\n",
      " [1. 1.]\n",
      " [1. 1.]]\n",
      "\n",
      "d=\n",
      "[0 0 0 0 0]\n",
      "\n",
      "e=\n",
      "[ 0.  2.  4.  6.  8. 10.]\n",
      "\n",
      "f=\n",
      "[[ 0.  2.]\n",
      " [ 4.  6.]\n",
      " [ 8. 10.]]\n",
      "\n"
     ]
    }
   ],
   "source": [
    "a = np.array([1,2,3])                                # Create one-dimensional array from list.\n",
    "print(f'a=\\n{a}\\n')\n",
    "b = np.array([[1,2,3],[4,5,6]])                      # Create two-dimensional array from list.\n",
    "print(f'b=\\n{b}\\n')\n",
    "print(f'b has shape {b.shape}.\\n')                     # Get shape of array.\n",
    "c = np.ones(shape=(3,2))                             # Create two-dimensional array of ones of given shape.\n",
    "print(f'c=\\n{c}\\n')\n",
    "d = np.zeros(shape=(5), dtype=int)                   # Create one-dimensional array of integer zeros.\n",
    "print(f'd=\\n{d}\\n')\n",
    "e = np.arange(start=0, stop=11, step=2, dtype=float) # Use range-construction of array of floats.\n",
    "print(f'e=\\n{e}\\n')\n",
    "f = e.reshape(3, 2)                                  # Create array from existing array, transforming its shape.\n",
    "print(f'f=\\n{f}\\n')"
   ]
  }
 ],
 "metadata": {
  "kernelspec": {
   "display_name": "Python 3",
   "language": "python",
   "name": "python3"
  },
  "language_info": {
   "codemirror_mode": {
    "name": "ipython",
    "version": 3
   },
   "file_extension": ".py",
   "mimetype": "text/x-python",
   "name": "python",
   "nbconvert_exporter": "python",
   "pygments_lexer": "ipython3",
   "version": "3.9.1"
  },
  "latex_envs": {
   "LaTeX_envs_menu_present": true,
   "autoclose": false,
   "autocomplete": true,
   "bibliofile": "biblio.bib",
   "cite_by": "apalike",
   "current_citInitial": 1,
   "eqLabelWithNumbers": true,
   "eqNumInitial": 1,
   "hotkeys": {
    "equation": "Ctrl-E",
    "itemize": "Ctrl-I"
   },
   "labels_anchors": false,
   "latex_user_defs": false,
   "report_style_numbering": false,
   "user_envs_cfg": false
  }
 },
 "nbformat": 4,
 "nbformat_minor": 5
}
