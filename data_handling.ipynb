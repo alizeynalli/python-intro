{
 "cells": [
  {
   "cell_type": "markdown",
   "id": "arbitrary-frame",
   "metadata": {},
   "source": [
    "<figure>\n",
    "  <IMG SRC=\"TUM.png\" WIDTH=250 ALIGN=\"right\">\n",
    "</figure>\n",
    "\n",
    "# Data Handling and Scientific Computing in Python 3\n",
    "    \n",
    "*David B. Blumenthal*"
   ]
  },
  {
   "cell_type": "markdown",
   "id": "impressed-motor",
   "metadata": {},
   "source": [
    "---\n",
    "## Python modules and packages\n",
    "\n",
    "- Python files with the `.py` extension are called **modules**.\n",
    "- Collections of related modules are called **packages**.\n",
    "- There is a huge variety of Python packages for numerous purposed.\n",
    "- Today, we will learn about two very widely used packages: **NumPy** and **pandas**.\n",
    "\n",
    "---\n",
    "## Syntax for importing packages\n",
    "\n",
    "```python\n",
    "import package                       # Import a package.\n",
    "import package as pkg                # Import a package and assign an abbreviation to it.\n",
    "from package import something        # Import functionality from a package.\n",
    "from package import something as sth # Import functionality from a package and assign an abbreviation to it.\n",
    "```\n",
    "\n",
    "---\n",
    "## NumPy: overview\n",
    "\n",
    "- Main class `ndarray` representing **multi-dimensional arrays**.\n",
    "- Provides many useful **mathematical functions**.\n",
    "- Backend implemented in **C** and **Fortran** $\\Longrightarrow$ **very fast** if only library calls are used.\n",
    "- Documentation and tutorials available [here](https://numpy.org).\n",
    "\n",
    "---\n",
    "### Importing NumPy"
   ]
  },
  {
   "cell_type": "code",
   "execution_count": 2,
   "id": "american-career",
   "metadata": {},
   "outputs": [],
   "source": [
    "import numpy as np"
   ]
  },
  {
   "cell_type": "markdown",
   "id": "cultural-jumping",
   "metadata": {},
   "source": [
    "---\n",
    "## Creating a `np.ndarray`"
   ]
  },
  {
   "cell_type": "code",
   "execution_count": 34,
   "id": "later-airport",
   "metadata": {},
   "outputs": [
    {
     "name": "stdout",
     "output_type": "stream",
     "text": [
      "a=\n",
      "[1 2 3 4 5]\n",
      "\n",
      "b=\n",
      "[[1 2 3]\n",
      " [4 5 6]]\n",
      "\n",
      "b has shape (2, 3).\n",
      "\n",
      "c=\n",
      "[[1. 1.]\n",
      " [1. 1.]\n",
      " [1. 1.]]\n",
      "\n",
      "d=\n",
      "[0 0 0 0 0]\n",
      "\n",
      "e=\n",
      "[ 0.  2.  4.  6.  8. 10.]\n",
      "\n",
      "f=\n",
      "[[ 0.  2.]\n",
      " [ 4.  6.]\n",
      " [ 8. 10.]]\n",
      "\n"
     ]
    }
   ],
   "source": [
    "a = np.array([1,2,3,4,5])                            # Create one-dimensional array from list.\n",
    "print(f'a=\\n{a}\\n')\n",
    "b = np.array([[1,2,3],[4,5,6]])                      # Create two-dimensional array from list.\n",
    "print(f'b=\\n{b}\\n')\n",
    "print(f'b has shape {b.shape}.\\n')                   # Get shape of array.\n",
    "c = np.ones(shape=(3,2))                             # Create two-dimensional array of ones of given shape.\n",
    "print(f'c=\\n{c}\\n')\n",
    "d = np.zeros(shape=(5), dtype=int)                   # Create one-dimensional array of integer zeros.\n",
    "print(f'd=\\n{d}\\n')\n",
    "e = np.arange(start=0, stop=11, step=2, dtype=float) # Use range-construction of array of floats.\n",
    "print(f'e=\\n{e}\\n')\n",
    "f = e.reshape(3, 2)                                  # Create array from existing array, transforming its shape.\n",
    "print(f'f=\\n{f}\\n')"
   ]
  },
  {
   "cell_type": "markdown",
   "id": "collected-subcommittee",
   "metadata": {},
   "source": [
    "---\n",
    "## Indexing and slicing one-dimensional arrays\n",
    "\n",
    "### Syntax for indexing\n",
    "\n",
    "```python\n",
    "value_at_index = array[index] # Get value at index.\n",
    "array[index] = new_value      # Update value at index.\n",
    "```\n",
    "\n",
    "### Syntax for slicing\n",
    "\n",
    "```python\n",
    "array_slice = array[start:stop:step] # Get array slice.\n",
    "array[start:stop:step] = new_slice   # Update array slice.\n",
    "```\n",
    "\n",
    "- **Default `start=0`**: If `start` is omitted, we start at the beginning.\n",
    "- **Default `end=len(array)`**: If `end` is omitted, we end at the last element.\n",
    "- **Default `step=1`**: If `step` is omitted, we use a step-size of 1.\n",
    "\n",
    "### Example"
   ]
  },
  {
   "cell_type": "code",
   "execution_count": 35,
   "id": "ahead-vision",
   "metadata": {},
   "outputs": [
    {
     "data": {
      "text/plain": [
       "array([  1, 100,   3, 101,   5])"
      ]
     },
     "execution_count": 35,
     "metadata": {},
     "output_type": "execute_result"
    }
   ],
   "source": [
    "a[1:5:2] = [100, 101]\n",
    "a"
   ]
  },
  {
   "cell_type": "markdown",
   "id": "planned-network",
   "metadata": {},
   "source": [
    "---\n",
    "## Exercise 1\n",
    "\n",
    "Create an integer array of zeros with length 20. Change the first 5 values to 10. Change the next 10 values to a sequence starting at 12 and increasing with steps of 2 to 40 (do this with one command). Set the final 5 values to 30. Print the string `'The second but last entry in the array is <ENTRY>.'`, using an f-String."
   ]
  },
  {
   "cell_type": "code",
   "execution_count": 45,
   "id": "heavy-state",
   "metadata": {},
   "outputs": [
    {
     "name": "stdout",
     "output_type": "stream",
     "text": [
      "The second but last entry in the array is 40.\n"
     ]
    }
   ],
   "source": [
    "array = np.zeros(shape=20, dtype=int)\n",
    "array[:5] = 10\n",
    "array[5:15] = np.arange(start=12, stop=31, step=2)\n",
    "array[15:] = 40\n",
    "print(f'The second but last entry in the array is {array[-2]}.')"
   ]
  },
  {
   "cell_type": "markdown",
   "id": "fantastic-monthly",
   "metadata": {},
   "source": [
    "---\n",
    "## Solutions to exercises"
   ]
  }
 ],
 "metadata": {
  "kernelspec": {
   "display_name": "Python 3",
   "language": "python",
   "name": "python3"
  },
  "language_info": {
   "codemirror_mode": {
    "name": "ipython",
    "version": 3
   },
   "file_extension": ".py",
   "mimetype": "text/x-python",
   "name": "python",
   "nbconvert_exporter": "python",
   "pygments_lexer": "ipython3",
   "version": "3.9.1"
  },
  "latex_envs": {
   "LaTeX_envs_menu_present": true,
   "autoclose": false,
   "autocomplete": true,
   "bibliofile": "biblio.bib",
   "cite_by": "apalike",
   "current_citInitial": 1,
   "eqLabelWithNumbers": true,
   "eqNumInitial": 1,
   "hotkeys": {
    "equation": "Ctrl-E",
    "itemize": "Ctrl-I"
   },
   "labels_anchors": false,
   "latex_user_defs": false,
   "report_style_numbering": false,
   "user_envs_cfg": false
  }
 },
 "nbformat": 4,
 "nbformat_minor": 5
}
